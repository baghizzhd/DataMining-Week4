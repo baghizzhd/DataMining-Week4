{
 "cells": [
  {
   "cell_type": "markdown",
   "metadata": {
    "id": "59lmf9GN_pz9"
   },
   "source": [
    "#Week 4: Supervised Learning - Classification - Iris\n",
    "-------------------------------------\n",
    "Lab exercise kali ini menggunakan dataset iris:\n",
    "https://raw.githubusercontent.com/catharinamega/Data-Mining-ISB-2020/main/Week%204/iris.csv\n",
    "\n",
    "Lakukan klasifikasi pada dataset tersebut dengan menggunakan 3 cara: Logistic Regression, Naive Bayes, dan K-Nearest Neighbor (dengan k=5)"
   ]
  },
  {
   "cell_type": "markdown",
   "metadata": {
    "id": "D-_Rri1ABBzs"
   },
   "source": [
    "## Import library"
   ]
  },
  {
   "cell_type": "code",
   "execution_count": 1,
   "metadata": {
    "id": "o7qqljwHAty2"
   },
   "outputs": [],
   "source": [
    "import numpy as np\n",
    "import matplotlib.pyplot as plt\n",
    "import pandas as pd\n",
    "import seaborn as sns\n",
    "from sklearn.model_selection import train_test_split\n",
    "from sklearn import metrics\n",
    "from sklearn.naive_bayes import GaussianNB\n",
    "from sklearn.neighbors import KNeighborsClassifier\n",
    "from sklearn.linear_model import LogisticRegression\n",
    "from sklearn.preprocessing import StandardScaler\n",
    "from sklearn.metrics import confusion_matrix, accuracy_score"
   ]
  },
  {
   "cell_type": "markdown",
   "metadata": {
    "id": "SCknVHJuBFWF"
   },
   "source": [
    "## Load Dataset"
   ]
  },
  {
   "cell_type": "code",
   "execution_count": 2,
   "metadata": {
    "colab": {
     "base_uri": "https://localhost:8080/",
     "height": 206
    },
    "id": "r9FYMEXZAy0a",
    "outputId": "005ba917-33cf-4a67-9808-0679ba293fca"
   },
   "outputs": [
    {
     "data": {
      "text/html": [
       "<div>\n",
       "<style scoped>\n",
       "    .dataframe tbody tr th:only-of-type {\n",
       "        vertical-align: middle;\n",
       "    }\n",
       "\n",
       "    .dataframe tbody tr th {\n",
       "        vertical-align: top;\n",
       "    }\n",
       "\n",
       "    .dataframe thead th {\n",
       "        text-align: right;\n",
       "    }\n",
       "</style>\n",
       "<table border=\"1\" class=\"dataframe\">\n",
       "  <thead>\n",
       "    <tr style=\"text-align: right;\">\n",
       "      <th></th>\n",
       "      <th>sepal_length</th>\n",
       "      <th>sepal_width</th>\n",
       "      <th>petal_length</th>\n",
       "      <th>petal_width</th>\n",
       "      <th>species</th>\n",
       "    </tr>\n",
       "  </thead>\n",
       "  <tbody>\n",
       "    <tr>\n",
       "      <th>0</th>\n",
       "      <td>5.1</td>\n",
       "      <td>3.5</td>\n",
       "      <td>1.4</td>\n",
       "      <td>0.2</td>\n",
       "      <td>setosa</td>\n",
       "    </tr>\n",
       "    <tr>\n",
       "      <th>1</th>\n",
       "      <td>4.9</td>\n",
       "      <td>3.0</td>\n",
       "      <td>1.4</td>\n",
       "      <td>0.2</td>\n",
       "      <td>setosa</td>\n",
       "    </tr>\n",
       "    <tr>\n",
       "      <th>2</th>\n",
       "      <td>4.7</td>\n",
       "      <td>3.2</td>\n",
       "      <td>1.3</td>\n",
       "      <td>0.2</td>\n",
       "      <td>setosa</td>\n",
       "    </tr>\n",
       "    <tr>\n",
       "      <th>3</th>\n",
       "      <td>4.6</td>\n",
       "      <td>3.1</td>\n",
       "      <td>1.5</td>\n",
       "      <td>0.2</td>\n",
       "      <td>setosa</td>\n",
       "    </tr>\n",
       "    <tr>\n",
       "      <th>4</th>\n",
       "      <td>5.0</td>\n",
       "      <td>3.6</td>\n",
       "      <td>1.4</td>\n",
       "      <td>0.2</td>\n",
       "      <td>setosa</td>\n",
       "    </tr>\n",
       "  </tbody>\n",
       "</table>\n",
       "</div>"
      ],
      "text/plain": [
       "   sepal_length  sepal_width  petal_length  petal_width species\n",
       "0           5.1          3.5           1.4          0.2  setosa\n",
       "1           4.9          3.0           1.4          0.2  setosa\n",
       "2           4.7          3.2           1.3          0.2  setosa\n",
       "3           4.6          3.1           1.5          0.2  setosa\n",
       "4           5.0          3.6           1.4          0.2  setosa"
      ]
     },
     "execution_count": 2,
     "metadata": {},
     "output_type": "execute_result"
    }
   ],
   "source": [
    "# Read CSV\n",
    "url='https://raw.githubusercontent.com/catharinamega/Data-Mining-ISB-2020/main/Week%204/iris.csv'\n",
    "df = pd.read_csv(url)\n",
    "df.head()"
   ]
  },
  {
   "cell_type": "markdown",
   "metadata": {
    "id": "hv8_UYnnBTYx"
   },
   "source": [
    "## Data Preprocessing"
   ]
  },
  {
   "cell_type": "markdown",
   "metadata": {
    "id": "shWWY2QSGewj"
   },
   "source": [
    "Periksa apakah ada baris yang duplikat\n",
    "\n"
   ]
  },
  {
   "cell_type": "code",
   "execution_count": 3,
   "metadata": {
    "colab": {
     "base_uri": "https://localhost:8080/"
    },
    "id": "wJ6hGSssFRBC",
    "outputId": "116192b4-8222-4830-e17e-bfd0bcd9c01f"
   },
   "outputs": [
    {
     "name": "stdout",
     "output_type": "stream",
     "text": [
      "False    147\n",
      "True       3\n",
      "dtype: int64\n"
     ]
    }
   ],
   "source": [
    "print(df.duplicated().value_counts())"
   ]
  },
  {
   "cell_type": "code",
   "execution_count": 4,
   "metadata": {},
   "outputs": [
    {
     "data": {
      "text/plain": [
       "0"
      ]
     },
     "execution_count": 4,
     "metadata": {},
     "output_type": "execute_result"
    }
   ],
   "source": [
    "#mengahaus yang duplicates\n",
    "df.drop_duplicates(keep='first', inplace=True)\n",
    "sum(df.duplicated())"
   ]
  },
  {
   "cell_type": "code",
   "execution_count": 5,
   "metadata": {},
   "outputs": [
    {
     "data": {
      "text/plain": [
       "False"
      ]
     },
     "execution_count": 5,
     "metadata": {},
     "output_type": "execute_result"
    }
   ],
   "source": [
    "#cek apakah masih ada duplicate\n",
    "df.duplicated().values.any()"
   ]
  },
  {
   "cell_type": "markdown",
   "metadata": {
    "id": "vSvEybiKLomQ"
   },
   "source": [
    "Periksa apakah ada missing values"
   ]
  },
  {
   "cell_type": "code",
   "execution_count": 6,
   "metadata": {
    "colab": {
     "base_uri": "https://localhost:8080/"
    },
    "id": "RlNt-lKmLw_X",
    "outputId": "d1e322ef-6681-4f1a-a542-c563af6601b2"
   },
   "outputs": [
    {
     "name": "stdout",
     "output_type": "stream",
     "text": [
      "sepal_length    False\n",
      "sepal_width     False\n",
      "petal_length    False\n",
      "petal_width     False\n",
      "species         False\n",
      "dtype: bool\n"
     ]
    }
   ],
   "source": [
    "print(df.isnull().any())"
   ]
  },
  {
   "cell_type": "markdown",
   "metadata": {
    "id": "6Q8ZWmLAID5m"
   },
   "source": [
    "Periksa outlier dengan boxplot untuk setiap kolom feature"
   ]
  },
  {
   "cell_type": "code",
   "execution_count": 7,
   "metadata": {
    "colab": {
     "base_uri": "https://localhost:8080/",
     "height": 299
    },
    "id": "g8uA0mTDIC3w",
    "outputId": "644b449b-9507-40ea-a032-dece636a6672"
   },
   "outputs": [
    {
     "data": {
      "image/png": "[encoded data removed]",
      "text/plain": [
       "<Figure size 504x288 with 4 Axes>"
      ]
     },
     "metadata": {
      "needs_background": "light"
     },
     "output_type": "display_data"
    }
   ],
   "source": [
    "fig, axes = plt.subplots(2, 2, figsize=(7,4))\n",
    "sns.boxplot(ax=axes[0, 0], data=df, x='species', y='sepal_length')\n",
    "sns.boxplot(ax=axes[0, 1], data=df, x='species', y='sepal_width')\n",
    "sns.boxplot(ax=axes[1, 0], data=df, x='species', y='petal_length')\n",
    "sns.boxplot(ax=axes[1, 1], data=df, x='species', y='petal_width')\n",
    "plt.show()"
   ]
  },
  {
   "cell_type": "markdown",
   "metadata": {
    "id": "x1Jp_nX3DoIN"
   },
   "source": [
    "Pisahkan dataset menjadi variabel independen dan variabel dependen"
   ]
  },
  {
   "cell_type": "code",
   "execution_count": 8,
   "metadata": {
    "id": "1AAkxvSgB4ao"
   },
   "outputs": [],
   "source": [
    "# variabel independent\n",
    "X = df.iloc[:, :-1].values\n",
    "# Variabel Dependent\n",
    "y = df.iloc[:, -1].values"
   ]
  },
  {
   "cell_type": "markdown",
   "metadata": {
    "id": "tM7meP78DvRO"
   },
   "source": [
    "Pisahkan dataset train dan test dataset, dengan ukuran dataset test 0.1"
   ]
  },
  {
   "cell_type": "code",
   "execution_count": 9,
   "metadata": {
    "id": "FFg5hkAMEyCo"
   },
   "outputs": [],
   "source": [
    "X_train, X_test, y_train, y_test = train_test_split(X, y, test_size = 0.1)"
   ]
  },
  {
   "cell_type": "markdown",
   "metadata": {
    "id": "i8kBslhcGv3A"
   },
   "source": [
    "Lakukan fitur scaling pada variabel X_train dan X_test. "
   ]
  },
  {
   "cell_type": "code",
   "execution_count": 10,
   "metadata": {
    "id": "AiCPrBd4JyDf"
   },
   "outputs": [],
   "source": [
    "sc = StandardScaler()\n",
    "X_train = sc.fit_transform(X_train)\n",
    "X_test = sc.transform(X_test)"
   ]
  },
  {
   "cell_type": "markdown",
   "metadata": {
    "id": "M9Wnfyt7ApS7"
   },
   "source": [
    "#Logistic Regression"
   ]
  },
  {
   "cell_type": "markdown",
   "metadata": {
    "id": "mN-9NfADFAmn"
   },
   "source": [
    "Bangun model dan ukur accuracy nya"
   ]
  },
  {
   "cell_type": "code",
   "execution_count": 11,
   "metadata": {
    "colab": {
     "base_uri": "https://localhost:8080/"
    },
    "id": "7nNOFcp_FETB",
    "outputId": "d7ccedd7-3984-4042-db0a-91e8eda9dba1"
   },
   "outputs": [
    {
     "data": {
      "text/plain": [
       "LogisticRegression(random_state=0)"
      ]
     },
     "execution_count": 11,
     "metadata": {},
     "output_type": "execute_result"
    }
   ],
   "source": [
    "classifier = LogisticRegression(random_state=0)\n",
    "classifier.fit(X_train,y_train)"
   ]
  },
  {
   "cell_type": "markdown",
   "metadata": {
    "id": "zZyes8UOVhsy"
   },
   "source": [
    "Uji model dengan dataset test"
   ]
  },
  {
   "cell_type": "code",
   "execution_count": 12,
   "metadata": {
    "colab": {
     "base_uri": "https://localhost:8080/"
    },
    "id": "W1W8JtIXVlRF",
    "outputId": "725e39b6-f43e-4ac4-c006-f49aff2570ab"
   },
   "outputs": [
    {
     "name": "stdout",
     "output_type": "stream",
     "text": [
      "['setosa' 'virginica' 'virginica' 'setosa' 'setosa' 'setosa' 'setosa'\n",
      " 'virginica' 'versicolor' 'versicolor' 'setosa' 'virginica' 'setosa'\n",
      " 'setosa' 'setosa']\n"
     ]
    }
   ],
   "source": [
    "y_pred = classifier.predict(X_test)\n",
    "print(y_pred)"
   ]
  },
  {
   "cell_type": "code",
   "execution_count": 13,
   "metadata": {
    "colab": {
     "base_uri": "https://localhost:8080/"
    },
    "id": "62aDHBp_O_rp",
    "outputId": "6786194d-7d06-4842-e8b7-8793c0c95c23"
   },
   "outputs": [
    {
     "name": "stdout",
     "output_type": "stream",
     "text": [
      "Confusion Matrix\n",
      " [[9 0 0]\n",
      " [0 2 0]\n",
      " [0 0 4]]\n",
      "Accuracy Score:  1.0\n"
     ]
    }
   ],
   "source": [
    "cm = confusion_matrix(y_test, y_pred)\n",
    "print(\"Confusion Matrix\\n\", cm)\n",
    "print(\"Accuracy Score: \", accuracy_score(y_test, y_pred))"
   ]
  },
  {
   "cell_type": "markdown",
   "metadata": {
    "id": "SS6eNQWKLdpn"
   },
   "source": [
    "# Naive Bayes\n",
    "\n",
    "Buat model persamaan berdasarkan data training yang sudah dibuat pada tahap preprocess"
   ]
  },
  {
   "cell_type": "code",
   "execution_count": 14,
   "metadata": {
    "colab": {
     "base_uri": "https://localhost:8080/"
    },
    "id": "tKgc72ocP3IB",
    "outputId": "8fe5dd58-3f84-4d0c-b04f-8f7fe444dda6"
   },
   "outputs": [
    {
     "data": {
      "text/plain": [
       "GaussianNB()"
      ]
     },
     "execution_count": 14,
     "metadata": {},
     "output_type": "execute_result"
    }
   ],
   "source": [
    "# train a Gaussian Naive Bayes classifier on the training set\n",
    "from sklearn.naive_bayes import GaussianNB\n",
    "# instantiate the model\n",
    "model = GaussianNB()\n",
    "# fit the model\n",
    "model.fit(X_train, y_train)"
   ]
  },
  {
   "cell_type": "markdown",
   "metadata": {
    "id": "4kjfj39PQch0"
   },
   "source": [
    "Uji hasil model dengan data test"
   ]
  },
  {
   "cell_type": "code",
   "execution_count": 15,
   "metadata": {
    "colab": {
     "base_uri": "https://localhost:8080/"
    },
    "id": "XlKc_hcrQiwS",
    "outputId": "c03d4b2a-6964-4cce-be56-268ca473ebeb"
   },
   "outputs": [
    {
     "name": "stdout",
     "output_type": "stream",
     "text": [
      "['setosa' 'virginica' 'virginica' 'setosa' 'setosa' 'setosa' 'setosa'\n",
      " 'virginica' 'versicolor' 'versicolor' 'setosa' 'virginica' 'setosa'\n",
      " 'setosa' 'setosa']\n"
     ]
    }
   ],
   "source": [
    "y_pred = model.predict(X_test)\n",
    "print(y_pred)"
   ]
  },
  {
   "cell_type": "markdown",
   "metadata": {
    "id": "BVSh48SQQsAy"
   },
   "source": [
    "Ukur akurasi dari model persamaan Naive Bayes Classifier"
   ]
  },
  {
   "cell_type": "code",
   "execution_count": 16,
   "metadata": {
    "colab": {
     "base_uri": "https://localhost:8080/"
    },
    "id": "wH6jeQxqQjYo",
    "outputId": "e648a302-804f-4aa9-ff70-dd8556cf8b4d"
   },
   "outputs": [
    {
     "name": "stdout",
     "output_type": "stream",
     "text": [
      "Confusion Matrix\n",
      " [[9 0 0]\n",
      " [0 2 0]\n",
      " [0 0 4]]\n",
      "Accuracy Score:  1.0\n"
     ]
    }
   ],
   "source": [
    "cm2 = confusion_matrix(y_test, y_pred)\n",
    "print(\"Confusion Matrix\\n\", cm2)\n",
    "print(\"Accuracy Score: \", accuracy_score(y_test, y_pred))"
   ]
  },
  {
   "cell_type": "markdown",
   "metadata": {
    "id": "WIB_g5-BRSsu"
   },
   "source": [
    "# K-Nearest Neighbour (K-NN) Classifier"
   ]
  },
  {
   "cell_type": "markdown",
   "metadata": {
    "id": "WwzQ0Xo5Rexr"
   },
   "source": [
    "Buatlah model KNN berdasarkan data training yang sudah dibuat di tahap preprocess, gunakan metric pengukuran jarak 'euclidean'"
   ]
  },
  {
   "cell_type": "code",
   "execution_count": 17,
   "metadata": {
    "colab": {
     "base_uri": "https://localhost:8080/"
    },
    "id": "_ESV58YzRQe4",
    "outputId": "25530154-99e7-4552-b849-0a2d473f18c5"
   },
   "outputs": [
    {
     "data": {
      "text/plain": [
       "KNeighborsClassifier(metric='euclidean')"
      ]
     },
     "execution_count": 17,
     "metadata": {},
     "output_type": "execute_result"
    }
   ],
   "source": [
    "classifier = KNeighborsClassifier(metric = \"euclidean\")\n",
    "classifier.fit(X_train, y_train)"
   ]
  },
  {
   "cell_type": "markdown",
   "metadata": {
    "id": "JvkdoXUpTYmA"
   },
   "source": [
    "Uji model dengan data test"
   ]
  },
  {
   "cell_type": "code",
   "execution_count": 18,
   "metadata": {
    "colab": {
     "base_uri": "https://localhost:8080/"
    },
    "id": "jcmAu9Y2TcME",
    "outputId": "432c128c-3a16-46c8-8467-fa48bf6e40fc"
   },
   "outputs": [
    {
     "name": "stdout",
     "output_type": "stream",
     "text": [
      "['setosa' 'virginica' 'virginica' 'setosa' 'setosa' 'setosa' 'setosa'\n",
      " 'virginica' 'versicolor' 'versicolor' 'setosa' 'virginica' 'setosa'\n",
      " 'setosa' 'setosa']\n"
     ]
    }
   ],
   "source": [
    "y_pred = classifier.predict(X_test)\n",
    "print(y_pred)"
   ]
  },
  {
   "cell_type": "markdown",
   "metadata": {
    "id": "jOGui9qYRxMv"
   },
   "source": [
    "Ukur akurasi dari model K-Nearest Neighbor"
   ]
  },
  {
   "cell_type": "code",
   "execution_count": 19,
   "metadata": {
    "colab": {
     "base_uri": "https://localhost:8080/"
    },
    "id": "lLMIOnTJS37y",
    "outputId": "74dcd0a0-8b6a-4e2a-fd50-9d0ace20b934"
   },
   "outputs": [
    {
     "name": "stdout",
     "output_type": "stream",
     "text": [
      "Confusion Matrix: \n",
      " [[9 0 0]\n",
      " [0 2 0]\n",
      " [0 0 4]]\n",
      "Accuracy Score:  1.0\n"
     ]
    }
   ],
   "source": [
    "cm3 = confusion_matrix(y_test, y_pred)\n",
    "print(\"Confusion Matrix: \\n\", cm3)\n",
    "print(\"Accuracy Score: \", accuracy_score(y_test, y_pred))"
   ]
  },
  {
   "cell_type": "markdown",
   "metadata": {
    "id": "NSHLmIIeT3jP"
   },
   "source": [
    "#Kesimpulan\n",
    "Dari 3 model klasifikasi di atas (Logistic Regression, Naive Bayes, K-Nearest Neighbor) model klasifikasi dengan akurasi tertinggi adalah..."
   ]
  },
  {
   "cell_type": "code",
   "execution_count": 20,
   "metadata": {},
   "outputs": [
    {
     "name": "stdout",
     "output_type": "stream",
     "text": [
      "ke-3 model memiliki akurasi nilai yang sama\n"
     ]
    }
   ],
   "source": [
    "print(\"ke-3 model memiliki akurasi nilai yang sama\")"
   ]
  },
  {
   "cell_type": "code",
   "execution_count": null,
   "metadata": {},
   "outputs": [],
   "source": []
  }
 ],
 "metadata": {
  "colab": {
   "collapsed_sections": [],
   "provenance": [],
   "toc_visible": true
  },
  "kernelspec": {
   "display_name": "Python 3",
   "language": "python",
   "name": "python3"
  },
  "language_info": {
   "codemirror_mode": {
    "name": "ipython",
    "version": 3
   },
   "file_extension": ".py",
   "mimetype": "text/x-python",
   "name": "python",
   "nbconvert_exporter": "python",
   "pygments_lexer": "ipython3",
   "version": "3.8.8"
  }
 },
 "nbformat": 4,
 "nbformat_minor": 1
}
